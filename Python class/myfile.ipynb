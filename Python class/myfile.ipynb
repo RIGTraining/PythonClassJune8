{
 "cells": [
  {
   "cell_type": "markdown",
   "id": "b9a8771f",
   "metadata": {},
   "source": [
    "Function Tutorial"
   ]
  },
  {
   "cell_type": "code",
   "execution_count": 3,
   "id": "79ecf033",
   "metadata": {},
   "outputs": [
    {
     "name": "stdout",
     "output_type": "stream",
     "text": [
      "Min Ga Lar Bar mg mg\n",
      "50\n"
     ]
    }
   ],
   "source": [
    "name = input('Enter Your Name : ')\n",
    "address = input('Enter Your Address')\n",
    "first = int(input('Enter First Number'))\n",
    "second = int(input('Enter Second Number'))\n",
    "\n",
    "def Greet():\n",
    "    print('Min Ga Lar Bar', name)\n",
    "\n",
    "def add_number():\n",
    "    res = first + second\n",
    "    print(res)\n",
    "    \n",
    "Greet() #function calling\n",
    "add_number()"
   ]
  },
  {
   "cell_type": "code",
   "execution_count": null,
   "id": "38e59941",
   "metadata": {},
   "outputs": [],
   "source": []
  },
  {
   "cell_type": "code",
   "execution_count": null,
   "id": "7acaace5",
   "metadata": {},
   "outputs": [],
   "source": []
  },
  {
   "cell_type": "code",
   "execution_count": null,
   "id": "ea0dce87",
   "metadata": {},
   "outputs": [],
   "source": []
  }
 ],
 "metadata": {
  "kernelspec": {
   "display_name": "Python 3",
   "language": "python",
   "name": "python3"
  },
  "language_info": {
   "codemirror_mode": {
    "name": "ipython",
    "version": 3
   },
   "file_extension": ".py",
   "mimetype": "text/x-python",
   "name": "python",
   "nbconvert_exporter": "python",
   "pygments_lexer": "ipython3",
   "version": "3.13.1"
  }
 },
 "nbformat": 4,
 "nbformat_minor": 5
}
