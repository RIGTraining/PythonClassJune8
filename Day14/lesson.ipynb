{
 "cells": [
  {
   "cell_type": "code",
   "execution_count": null,
   "id": "3bae6814",
   "metadata": {},
   "outputs": [],
   "source": [
    "!pip install ttkbootstrap"
   ]
  },
  {
   "cell_type": "code",
   "execution_count": null,
   "id": "6135f760",
   "metadata": {},
   "outputs": [],
   "source": [
    "# tkiner\n",
    "# flask\n",
    "\n",
    "import tkinter as tk\n",
    "import ttkbootstrap as ttk\n",
    "from ttkbootstrap.constants import *\n",
    "\n",
    "window = tk.Tk()\n",
    "btn = ttk.Button(window, text='this is btn', bootstyle='success')\n",
    "btn.pack()\n",
    "\n",
    "window.mainloop()"
   ]
  },
  {
   "cell_type": "code",
   "execution_count": 2,
   "id": "42ffcae0",
   "metadata": {},
   "outputs": [],
   "source": [
    "# !pip install ttkbootstrap\n",
    "import tkinter as tk\n",
    "import ttkbootstrap as ttk\n",
    "from ttkbootstrap.constants import *\n",
    "\n",
    "window = tk.Tk()\n",
    "window.geometry('400x400') #width=400, height=400\n",
    "\n",
    "def test_function():\n",
    "    username = ety.get()\n",
    "    print(username)\n",
    "#widget\n",
    "lbl = ttk.Label(window, text='username', bootstyle=\"warning\")\n",
    "lbl.pack()\n",
    "\n",
    "ety = ttk.Entry(window,  bootstyle='success')\n",
    "ety.pack()\n",
    "\n",
    "pasw = ttk.Label(window, text='password')\n",
    "pasw.pack()\n",
    "\n",
    "ety1 = ttk.Entry(window,  bootstyle='success')\n",
    "ety1.pack()\n",
    "\n",
    "btn = ttk.Button(window, text='Submit', bootstyle='success', command=test_function)\n",
    "btn.pack()\n",
    "\n",
    "# pack()\n",
    "# grid()\n",
    "# place()\n",
    "\n",
    "\n",
    "\n",
    "\n",
    "\n",
    "window.mainloop()"
   ]
  }
 ],
 "metadata": {
  "kernelspec": {
   "display_name": "Python 3",
   "language": "python",
   "name": "python3"
  },
  "language_info": {
   "codemirror_mode": {
    "name": "ipython",
    "version": 3
   },
   "file_extension": ".py",
   "mimetype": "text/x-python",
   "name": "python",
   "nbconvert_exporter": "python",
   "pygments_lexer": "ipython3",
   "version": "3.12.7"
  }
 },
 "nbformat": 4,
 "nbformat_minor": 5
}
