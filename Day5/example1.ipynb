{
 "cells": [
  {
   "cell_type": "markdown",
   "id": "54b771e5",
   "metadata": {},
   "source": [
    "Note: function, If , Type"
   ]
  },
  {
   "cell_type": "code",
   "execution_count": null,
   "id": "40907245",
   "metadata": {},
   "outputs": [
    {
     "name": "stdout",
     "output_type": "stream",
     "text": [
      "Hello World\n"
     ]
    }
   ],
   "source": [
    "print('Hello World1')"
   ]
  },
  {
   "cell_type": "code",
   "execution_count": 6,
   "id": "990bad7d",
   "metadata": {},
   "outputs": [
    {
     "name": "stdout",
     "output_type": "stream",
     "text": [
      "a is greater than 50\n"
     ]
    }
   ],
   "source": [
    "a = 80\n",
    "if a> 50:\n",
    "    print('a is greater than 50')\n",
    "else:\n",
    "    print('a is less than 50')"
   ]
  },
  {
   "cell_type": "code",
   "execution_count": null,
   "id": "fb8d829e",
   "metadata": {},
   "outputs": [],
   "source": []
  }
 ],
 "metadata": {
  "kernelspec": {
   "display_name": "Python 3",
   "language": "python",
   "name": "python3"
  },
  "language_info": {
   "codemirror_mode": {
    "name": "ipython",
    "version": 3
   },
   "file_extension": ".py",
   "mimetype": "text/x-python",
   "name": "python",
   "nbconvert_exporter": "python",
   "pygments_lexer": "ipython3",
   "version": "3.13.1"
  }
 },
 "nbformat": 4,
 "nbformat_minor": 5
}
