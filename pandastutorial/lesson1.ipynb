{
 "cells": [
  {
   "cell_type": "code",
   "execution_count": null,
   "id": "a76638ee",
   "metadata": {},
   "outputs": [],
   "source": [
    "import pandas as pd\n",
    "\n",
    "mylist = [2,3,4,5,6]\n",
    "mydic = {'name': 'Mg Mg', 'phone':'123456789'}\n",
    "data = {\n",
    "  \"Name\": [\"Mg Mg\", \"Ma Ma\", 'Aung Aung'],\n",
    "  \"Phone\": [5034, 40456, 45765],\n",
    "  \"Address\":['yangon', 'manadalay', 'yangon']\n",
    "}\n",
    "\n",
    "df = pd.DataFrame(data, index=['no1', 'no2', 'no3'])\n",
    "print(df)\n",
    "\n",
    "df[['Name', 'Address']]\n",
    "\n"
   ]
  },
  {
   "cell_type": "code",
   "execution_count": null,
   "id": "441de13e",
   "metadata": {},
   "outputs": [],
   "source": [
    "import pandas as pd\n",
    "mydata = pd.read_csv('data.csv')\n",
    "excel_data = pd.read_excel('data.xlsx')\n",
    "\n",
    "print(excel_data)\n",
    "\n",
    "print(mydata.head(10))#top 5 rows\n",
    "print(mydata.tail(6))# end 5 rows\n",
    "mydata['Calories'].head() #select col"
   ]
  },
  {
   "cell_type": "code",
   "execution_count": 2,
   "id": "23ce3cdd",
   "metadata": {},
   "outputs": [
    {
     "name": "stdout",
     "output_type": "stream",
     "text": [
      "   id       name    phone   address\n",
      "0   8  Aung Aung  4957239  Mandalay\n",
      "1   9    Aye Aye   454545       YGN\n"
     ]
    }
   ],
   "source": [
    "import sqlite3\n",
    "import pandas as pd\n",
    "\n",
    "conn = sqlite3.connect('mydb.db')\n",
    "mydata = pd.read_sql_query(\"SELECT * FROM contact\", conn)\n",
    "\n",
    "print(mydata)\n"
   ]
  }
 ],
 "metadata": {
  "kernelspec": {
   "display_name": "Python 3",
   "language": "python",
   "name": "python3"
  },
  "language_info": {
   "codemirror_mode": {
    "name": "ipython",
    "version": 3
   },
   "file_extension": ".py",
   "mimetype": "text/x-python",
   "name": "python",
   "nbconvert_exporter": "python",
   "pygments_lexer": "ipython3",
   "version": "3.12.7"
  }
 },
 "nbformat": 4,
 "nbformat_minor": 5
}
