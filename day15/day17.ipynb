{
 "cells": [
  {
   "cell_type": "code",
   "execution_count": 1,
   "id": "1160d872",
   "metadata": {},
   "outputs": [],
   "source": [
    "import sqlite3\n",
    "from tkinter import *\n",
    "import tkinter as tk\n",
    "import ttkbootstrap as ttk\n",
    "from tkinter import messagebox\n",
    "from ttkbootstrap.tableview import Tableview\n",
    "from ttkbootstrap.constants import *"
   ]
  },
  {
   "cell_type": "code",
   "execution_count": null,
   "id": "039d1054",
   "metadata": {},
   "outputs": [],
   "source": [
    "conn = sqlite3.connect('mycontact.db')\n",
    "\n",
    "\n",
    "app = ttk.Window()\n",
    "colors = app.style.colors\n",
    "\n",
    "def view_contact():\n",
    "  conn = sqlite3.connect('mycontact.db')\n",
    "  c = conn.cursor()\n",
    "  data = c.execute(\"SELECT * FROM contact\")\n",
    "  rows = data.fetchall()  # fetch all rows from the executed query\n",
    "  \n",
    "  \n",
    "  for row in rows:\n",
    "    dt.insert_row('end', [row[0],row[1], row[2], row[3]])\n",
    "\n",
    "\n",
    "rowdata = [\n",
    "]\n",
    "\n",
    "dt = Tableview(\n",
    "    master=app,\n",
    "    coldata=['Name', 'Phone', 'Address'],\n",
    "    rowdata=rowdata,\n",
    "    paginated=True,\n",
    "    searchable=True,\n",
    "    bootstyle=PRIMARY,\n",
    "    stripecolor=(colors.light, None),\n",
    ")\n",
    "dt.pack(fill=BOTH, expand=YES, padx=10, pady=10)\n",
    "\n",
    "\n",
    "view_contact()\n",
    "app.mainloop()"
   ]
  }
 ],
 "metadata": {
  "kernelspec": {
   "display_name": "Python 3",
   "language": "python",
   "name": "python3"
  },
  "language_info": {
   "codemirror_mode": {
    "name": "ipython",
    "version": 3
   },
   "file_extension": ".py",
   "mimetype": "text/x-python",
   "name": "python",
   "nbconvert_exporter": "python",
   "pygments_lexer": "ipython3",
   "version": "3.12.7"
  }
 },
 "nbformat": 4,
 "nbformat_minor": 5
}
