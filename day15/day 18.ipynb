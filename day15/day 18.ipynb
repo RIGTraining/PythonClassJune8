{
 "cells": [
  {
   "cell_type": "code",
   "execution_count": null,
   "id": "26d6eab3",
   "metadata": {},
   "outputs": [],
   "source": [
    "# python flask google-chart pandas matpolt"
   ]
  },
  {
   "cell_type": "code",
   "execution_count": null,
   "id": "e3dd945f",
   "metadata": {},
   "outputs": [],
   "source": [
    "# pip install flask\n",
    "# pip install pandas"
   ]
  },
  {
   "cell_type": "code",
   "execution_count": null,
   "id": "0e4eef91",
   "metadata": {},
   "outputs": [
    {
     "name": "stdout",
     "output_type": "stream",
     "text": [
      "Defaulting to user installation because normal site-packages is not writeable\n",
      "Requirement already satisfied: pandas in c:\\users\\e15\\appdata\\roaming\\python\\python312\\site-packages (2.3.1)\n",
      "Requirement already satisfied: numpy>=1.26.0 in c:\\users\\e15\\appdata\\roaming\\python\\python312\\site-packages (from pandas) (2.1.3)\n",
      "Requirement already satisfied: python-dateutil>=2.8.2 in c:\\users\\e15\\appdata\\roaming\\python\\python312\\site-packages (from pandas) (2.9.0.post0)\n",
      "Requirement already satisfied: pytz>=2020.1 in c:\\users\\e15\\appdata\\roaming\\python\\python312\\site-packages (from pandas) (2025.2)\n",
      "Requirement already satisfied: tzdata>=2022.7 in c:\\users\\e15\\appdata\\roaming\\python\\python312\\site-packages (from pandas) (2025.2)\n",
      "Requirement already satisfied: six>=1.5 in c:\\users\\e15\\appdata\\roaming\\python\\python312\\site-packages (from python-dateutil>=2.8.2->pandas) (1.17.0)\n",
      " * Serving Flask app '__main__'\n",
      " * Debug mode: off\n"
     ]
    },
    {
     "name": "stderr",
     "output_type": "stream",
     "text": [
      "\n",
      "[notice] A new release of pip is available: 24.2 -> 25.2\n",
      "[notice] To update, run: python.exe -m pip install --upgrade pip\n",
      "WARNING: This is a development server. Do not use it in a production deployment. Use a production WSGI server instead.\n",
      " * Running on http://127.0.0.1:5000\n",
      "Press CTRL+C to quit\n",
      "127.0.0.1 - - [30/Aug/2025 14:54:04] \"GET / HTTP/1.1\" 200 -\n"
     ]
    }
   ],
   "source": [
    "!pip install pandas\n",
    "from flask import Flask, render_template, request, redirect\n",
    "import pandas as pd\n",
    "\n",
    "app = Flask(__name__)\n",
    "\n",
    "@app.route('/')\n",
    "def homepage():\n",
    "    data = [[\"Name\", \"Marks\"],\n",
    "            [\"Mg Mg\", 300],\n",
    "            [\"Aung Aung\", 200],\n",
    "            [\"Kyaw Kyaw\", 120]]\n",
    "    df = pd.read_csv(r'C:\\Users\\E15\\Documents\\GitHub\\PythonClassWinLaeMon\\day15\\mydata.csv')\n",
    "    list_data = [df.columns.tolist()] + df.values.tolist()\n",
    "    context = {\n",
    "        'data': data,\n",
    "        'df': list_data\n",
    "    }\n",
    "\n",
    "    return render_template('index.html', **context)\n",
    "\n",
    "if __name__ == '__main__':\n",
    "    app.run()"
   ]
  }
 ],
 "metadata": {
  "kernelspec": {
   "display_name": "Python 3",
   "language": "python",
   "name": "python3"
  },
  "language_info": {
   "codemirror_mode": {
    "name": "ipython",
    "version": 3
   },
   "file_extension": ".py",
   "mimetype": "text/x-python",
   "name": "python",
   "nbconvert_exporter": "python",
   "pygments_lexer": "ipython3",
   "version": "3.12.7"
  }
 },
 "nbformat": 4,
 "nbformat_minor": 5
}
