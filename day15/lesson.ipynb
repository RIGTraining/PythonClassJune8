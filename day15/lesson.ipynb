{
 "cells": [
  {
   "cell_type": "code",
   "execution_count": 19,
   "id": "09d7ab60",
   "metadata": {},
   "outputs": [],
   "source": [
    "import tkinter as tk\n",
    "import ttkbootstrap as ttk\n",
    "from ttkbootstrap.constants import *\n",
    "\n",
    "root = tk.Tk()\n",
    "root.geometry('400x400')\n",
    "\n",
    "lbl = ttk.Label(root, text='username', bootstyle=\"warning\", font=('arial',30), background='red')\n",
    "lbl1 = ttk.Label(root, text='phone', bootstyle=\"warning\", font=('arial',30), background='green')\n",
    "\n",
    "\n",
    "lbl.pack(side='top', padx=50) #top, right, left\n",
    "lbl1.pack(side='top',padx=60) #top, right, left\n",
    "\n",
    "root.mainloop()"
   ]
  },
  {
   "cell_type": "code",
   "execution_count": null,
   "id": "c3a245f7",
   "metadata": {},
   "outputs": [],
   "source": []
  }
 ],
 "metadata": {
  "kernelspec": {
   "display_name": "Python 3",
   "language": "python",
   "name": "python3"
  },
  "language_info": {
   "codemirror_mode": {
    "name": "ipython",
    "version": 3
   },
   "file_extension": ".py",
   "mimetype": "text/x-python",
   "name": "python",
   "nbconvert_exporter": "python",
   "pygments_lexer": "ipython3",
   "version": "3.12.7"
  }
 },
 "nbformat": 4,
 "nbformat_minor": 5
}
